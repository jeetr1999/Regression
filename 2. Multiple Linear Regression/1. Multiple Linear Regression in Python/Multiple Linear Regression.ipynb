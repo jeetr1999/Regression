{
 "cells": [
  {
   "cell_type": "markdown",
   "id": "628d145b",
   "metadata": {},
   "source": [
    "<h2>Importing Libraries"
   ]
  },
  {
   "cell_type": "code",
   "execution_count": 1,
   "id": "1f1d99d2",
   "metadata": {},
   "outputs": [],
   "source": [
    "import numpy as np\n",
    "import pandas as pd\n",
    "import matplotlib.pyplot as plt"
   ]
  },
  {
   "cell_type": "markdown",
   "id": "d5dcc6a3",
   "metadata": {},
   "source": [
    "<h2>Importing Dataset"
   ]
  },
  {
   "cell_type": "code",
   "execution_count": 2,
   "id": "5b5e8c2b",
   "metadata": {},
   "outputs": [],
   "source": [
    "dataset = pd.read_csv(\"50_Startups.csv\")\n",
    "X = dataset.iloc[:, :-1].values\n",
    "y = dataset.iloc[:,-1].values"
   ]
  },
  {
   "cell_type": "code",
   "execution_count": null,
   "id": "d0e36fea",
   "metadata": {},
   "outputs": [],
   "source": [
    "print(X)"
   ]
  },
  {
   "cell_type": "code",
   "execution_count": null,
   "id": "2377eaa0",
   "metadata": {},
   "outputs": [],
   "source": [
    "print(y)"
   ]
  },
  {
   "cell_type": "markdown",
   "id": "c9a0c0b8",
   "metadata": {},
   "source": [
    "<h2>Encoding Categorical Data"
   ]
  },
  {
   "cell_type": "markdown",
   "id": "f0572f6d",
   "metadata": {},
   "source": [
    "<h3>Encoding Independent Variable"
   ]
  },
  {
   "cell_type": "code",
   "execution_count": 3,
   "id": "4909835e",
   "metadata": {},
   "outputs": [],
   "source": [
    "from sklearn.compose import ColumnTransformer\n",
    "from sklearn.preprocessing import OneHotEncoder\n",
    "ct = ColumnTransformer(transformers = [('encoder', OneHotEncoder(), [3])], remainder = 'passthrough')\n",
    "X = np.array(ct.fit_transform(X))"
   ]
  },
  {
   "cell_type": "code",
   "execution_count": null,
   "id": "3c92554f",
   "metadata": {},
   "outputs": [],
   "source": [
    "print(X)"
   ]
  },
  {
   "cell_type": "markdown",
   "id": "542e2d39",
   "metadata": {},
   "source": [
    "<h2>Split into Training Set and Testing Set"
   ]
  },
  {
   "cell_type": "code",
   "execution_count": 4,
   "id": "976ff1de",
   "metadata": {},
   "outputs": [],
   "source": [
    "from sklearn.model_selection import train_test_split\n",
    "X_train, X_test, y_train, y_test = train_test_split(X, y, test_size = 0.2,random_state = 0)"
   ]
  },
  {
   "cell_type": "markdown",
   "id": "b8de8ec1",
   "metadata": {},
   "source": [
    "<h2>Training Multiple Linear Regression on Training Set"
   ]
  },
  {
   "cell_type": "code",
   "execution_count": 5,
   "id": "6ee153e4",
   "metadata": {},
   "outputs": [
    {
     "data": {
      "text/plain": [
       "LinearRegression()"
      ]
     },
     "execution_count": 5,
     "metadata": {},
     "output_type": "execute_result"
    }
   ],
   "source": [
    "from sklearn.linear_model import LinearRegression\n",
    "regressor = LinearRegression()\n",
    "regressor.fit(X_train, y_train)"
   ]
  },
  {
   "cell_type": "markdown",
   "id": "5b9c0fe8",
   "metadata": {},
   "source": [
    "<h2>Predict The Result on Test Set"
   ]
  },
  {
   "cell_type": "code",
   "execution_count": 10,
   "id": "9bf98966",
   "metadata": {},
   "outputs": [
    {
     "name": "stdout",
     "output_type": "stream",
     "text": [
      "[[103015.2  103282.38]\n",
      " [132582.28 144259.4 ]\n",
      " [132447.74 146121.95]\n",
      " [ 71976.1   77798.83]\n",
      " [178537.48 191050.39]\n",
      " [116161.24 105008.31]\n",
      " [ 67851.69  81229.06]\n",
      " [ 98791.73  97483.56]\n",
      " [113969.44 110352.25]\n",
      " [167921.07 166187.94]]\n"
     ]
    }
   ],
   "source": [
    "y_pred = regressor.predict(X_test)\n",
    "np.set_printoptions(precision = 2)\n",
    "print(np.concatenate((y_pred.reshape(len(y_pred),1), y_test.reshape(len(y_test),1)),1))"
   ]
  },
  {
   "cell_type": "code",
   "execution_count": 17,
   "id": "4afafb5e",
   "metadata": {},
   "outputs": [
    {
     "name": "stdout",
     "output_type": "stream",
     "text": [
      "[[  -267.18]\n",
      " [-11677.12]\n",
      " [-13674.21]\n",
      " [ -5822.73]\n",
      " [-12512.91]\n",
      " [ 11152.93]\n",
      " [-13377.37]\n",
      " [  1308.17]\n",
      " [  3617.19]\n",
      " [  1733.13]]\n"
     ]
    }
   ],
   "source": [
    "a = y_pred.reshape(len(y_pred),1)\n",
    "b = y_test.reshape(len(y_test),1)\n",
    "\n",
    "print(a-b)"
   ]
  }
 ],
 "metadata": {
  "kernelspec": {
   "display_name": "Python 3",
   "language": "python",
   "name": "python3"
  },
  "language_info": {
   "codemirror_mode": {
    "name": "ipython",
    "version": 3
   },
   "file_extension": ".py",
   "mimetype": "text/x-python",
   "name": "python",
   "nbconvert_exporter": "python",
   "pygments_lexer": "ipython3",
   "version": "3.8.8"
  }
 },
 "nbformat": 4,
 "nbformat_minor": 5
}
